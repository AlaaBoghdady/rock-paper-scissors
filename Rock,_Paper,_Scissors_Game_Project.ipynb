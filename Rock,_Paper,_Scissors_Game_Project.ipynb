{
  "nbformat": 4,
  "nbformat_minor": 0,
  "metadata": {
    "colab": {
      "provenance": []
    },
    "kernelspec": {
      "name": "python3",
      "display_name": "Python 3"
    },
    "language_info": {
      "name": "python"
    }
  },
  "cells": [
    {
      "cell_type": "code",
      "execution_count": 2,
      "metadata": {
        "colab": {
          "base_uri": "https://localhost:8080/"
        },
        "id": "apn5mQjGURsR",
        "outputId": "0f11af5c-727f-4ace-828f-7a2423b0a7d9"
      },
      "outputs": [
        {
          "output_type": "stream",
          "name": "stdout",
          "text": [
            "Welcome to Rock, Paper, Scissors Game!\n",
            "Enter your choice: Rock, Paper, or Scissors\n",
            "rock\n",
            "You chose: Rock\n",
            "Computer chose: Scissors\n",
            "You win!\n",
            " Do you want to play again?! (Yes , NO)\n",
            "yes\n",
            "Enter your choice: Rock, Paper, or Scissors\n",
            "scissors\n",
            "You chose: Scissors\n",
            "Computer chose: Paper\n",
            "You win!\n",
            " Do you want to play again?! (Yes , NO)\n",
            "no\n",
            "Thanks for playing! Goodbye!\n"
          ]
        }
      ],
      "source": [
        "#Rock, Paper, Scissors Game Project\n",
        "\n",
        "import random\n",
        "\n",
        "# function to get the player's choice\n",
        "def get_user_choice():\n",
        "  print(\"Enter your choice: Rock, Paper, or Scissors\")\n",
        "  user_choice = input().capitalize()\n",
        "\n",
        "  while user_choice not in [\"Rock\", \"Paper\", \"Scissors\"]:\n",
        "    print(\"invalid choice , please try again !! \")\n",
        "    user_choice = input().capitalize()\n",
        "\n",
        "  return user_choice\n",
        "\n",
        "# function to get the computer's choice\n",
        "def get_computer_choice():\n",
        "  choices = [\"Rock\" , \"Paper\" , \"Scissors\"]\n",
        "  return random.choice(choices)\n",
        "\n",
        "# function to determine the winner\n",
        "def winner(user_choice , computer_choice):\n",
        "  if user_choice == computer_choice:\n",
        "    return \"it's a tie!\"\n",
        "\n",
        "  if(user_choice == \"Rock\" and computer_choice == \"Scissors\") or \\\n",
        "     (user_choice == \"Paper\" and computer_choice == \"Rock\") or \\\n",
        "     (user_choice == \"Scissors\" and computer_choice == \"Paper\"):\n",
        "     return \"You win!\"\n",
        "\n",
        "  return \"Computer wins!\"\n",
        "\n",
        "\n",
        "#main function to play the game\n",
        "def play_game():\n",
        "  print(\"Welcome to Rock, Paper, Scissors Game!\")\n",
        "  while True:\n",
        "    user_choice = get_user_choice()\n",
        "    computer_choice = get_computer_choice()\n",
        "    print(f\"You chose: {user_choice}\")\n",
        "    print(f\"Computer chose: {computer_choice}\")\n",
        "\n",
        "    result = winner(user_choice , computer_choice)\n",
        "    print(result)\n",
        "\n",
        "    # ask if the user want to play again\n",
        "    print(\" Do you want to play again?! (Yes , NO)\")\n",
        "    play_again = input().lower()\n",
        "\n",
        "\n",
        "    if play_again != \"yes\":\n",
        "      print(\"Thanks for playing! Goodbye!\")\n",
        "      break\n",
        "\n",
        "if __name__ == \"__main__\":\n",
        "  play_game()\n",
        "\n",
        ""
      ]
    },
    {
      "cell_type": "code",
      "source": [],
      "metadata": {
        "id": "fFaTt_e_UeMs"
      },
      "execution_count": null,
      "outputs": []
    }
  ]
}